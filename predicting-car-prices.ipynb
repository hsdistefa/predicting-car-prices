{
 "cells": [
  {
   "cell_type": "markdown",
   "metadata": {},
   "source": [
    "# Predicting Car Prices Using Machine Learning\n",
    "In this notebook we will be predicting a car's market price using its attributes using a simple machine learning workflow. \n",
    "\n",
    "For each car we have information about the technical aspects of the vehicle such as the motor's displacement, the weight of the car, the miles per gallon, how fast the car accelerates, and more. We will use these attributes to create a model that can give a good idea of a cars market value given only the attributes of a car it hasn't seen before.\n",
    "\n",
    "## Data\n",
    "The data we will be using the train the model can be found on the University of California Irvine's machine learning reposity [here](https://archive.ics.uci.edu/ml/datasets/automobile)\n",
    "\n",
    "The data have the following columns:\n",
    "1. **symboling**: -3, -2, -1, 0, 1, 2, 3. \n",
    "2. **normalized-losses**: continuous from 65 to 256. \n",
    "3. **make**: alfa-romero, audi, bmw, chevrolet, dodge, honda, isuzu, jaguar, mazda, mercedes-benz, mercury, mitsubishi, nissan, peugot, plymouth, porsche, renault, saab, subaru, toyota, volkswagen, volvo \n",
    "4. **fuel-type**: diesel, gas. \n",
    "5. **aspiration**: std, turbo. \n",
    "6. **num-of-doors**: four, two. \n",
    "7. **body-style**: hardtop, wagon, sedan, hatchback, convertible. \n",
    "8. **drive-wheels**: 4wd, fwd, rwd. \n",
    "9. **engine-location**: front, rear. \n",
    "10. **wheel-base**: continuous from 86.6 120.9. \n",
    "11. **length**: continuous from 141.1 to 208.1. \n",
    "12. **width**: continuous from 60.3 to 72.3. \n",
    "13. **height**: continuous from 47.8 to 59.8. \n",
    "14. **curb-weight**: continuous from 1488 to 4066. \n",
    "15. **engine-type**: dohc, dohcv, l, ohc, ohcf, ohcv, rotor. \n",
    "16. **num-of-cylinders**: eight, five, four, six, three, twelve, two. \n",
    "17. **engine-size**: continuous from 61 to 326. \n",
    "18. **fuel-system**: 1bbl, 2bbl, 4bbl, idi, mfi, mpfi, spdi, spfi. \n",
    "19. **bore**: continuous from 2.54 to 3.94. \n",
    "20. **stroke**: continuous from 2.07 to 4.17. \n",
    "21. **compression-ratio**: continuous from 7 to 23. \n",
    "22. **horsepower**: continuous from 48 to 288. \n",
    "23. **peak-rpm**: continuous from 4150 to 6600. \n",
    "24. **city-mpg**: continuous from 13 to 49. \n",
    "25. **highway-mpg**: continuous from 16 to 54. \n",
    "26. **price**: continuous from 5118 to 45400."
   ]
  },
  {
   "cell_type": "code",
   "execution_count": 1,
   "metadata": {},
   "outputs": [
    {
     "data": {
      "text/html": [
       "<div>\n",
       "<style scoped>\n",
       "    .dataframe tbody tr th:only-of-type {\n",
       "        vertical-align: middle;\n",
       "    }\n",
       "\n",
       "    .dataframe tbody tr th {\n",
       "        vertical-align: top;\n",
       "    }\n",
       "\n",
       "    .dataframe thead th {\n",
       "        text-align: right;\n",
       "    }\n",
       "</style>\n",
       "<table border=\"1\" class=\"dataframe\">\n",
       "  <thead>\n",
       "    <tr style=\"text-align: right;\">\n",
       "      <th></th>\n",
       "      <th>3</th>\n",
       "      <th>?</th>\n",
       "      <th>alfa-romero</th>\n",
       "      <th>gas</th>\n",
       "      <th>std</th>\n",
       "      <th>two</th>\n",
       "      <th>convertible</th>\n",
       "      <th>rwd</th>\n",
       "      <th>front</th>\n",
       "      <th>88.60</th>\n",
       "      <th>168.80</th>\n",
       "      <th>64.10</th>\n",
       "      <th>48.80</th>\n",
       "      <th>2548</th>\n",
       "      <th>dohc</th>\n",
       "      <th>four</th>\n",
       "      <th>130</th>\n",
       "      <th>mpfi</th>\n",
       "      <th>3.47</th>\n",
       "      <th>2.68</th>\n",
       "      <th>9.00</th>\n",
       "      <th>111</th>\n",
       "      <th>5000</th>\n",
       "      <th>21</th>\n",
       "      <th>27</th>\n",
       "      <th>13495</th>\n",
       "    </tr>\n",
       "  </thead>\n",
       "  <tbody>\n",
       "    <tr>\n",
       "      <th>0</th>\n",
       "      <td>3</td>\n",
       "      <td>?</td>\n",
       "      <td>alfa-romero</td>\n",
       "      <td>gas</td>\n",
       "      <td>std</td>\n",
       "      <td>two</td>\n",
       "      <td>convertible</td>\n",
       "      <td>rwd</td>\n",
       "      <td>front</td>\n",
       "      <td>88.6</td>\n",
       "      <td>168.8</td>\n",
       "      <td>64.1</td>\n",
       "      <td>48.8</td>\n",
       "      <td>2548</td>\n",
       "      <td>dohc</td>\n",
       "      <td>four</td>\n",
       "      <td>130</td>\n",
       "      <td>mpfi</td>\n",
       "      <td>3.47</td>\n",
       "      <td>2.68</td>\n",
       "      <td>9.0</td>\n",
       "      <td>111</td>\n",
       "      <td>5000</td>\n",
       "      <td>21</td>\n",
       "      <td>27</td>\n",
       "      <td>16500</td>\n",
       "    </tr>\n",
       "    <tr>\n",
       "      <th>1</th>\n",
       "      <td>1</td>\n",
       "      <td>?</td>\n",
       "      <td>alfa-romero</td>\n",
       "      <td>gas</td>\n",
       "      <td>std</td>\n",
       "      <td>two</td>\n",
       "      <td>hatchback</td>\n",
       "      <td>rwd</td>\n",
       "      <td>front</td>\n",
       "      <td>94.5</td>\n",
       "      <td>171.2</td>\n",
       "      <td>65.5</td>\n",
       "      <td>52.4</td>\n",
       "      <td>2823</td>\n",
       "      <td>ohcv</td>\n",
       "      <td>six</td>\n",
       "      <td>152</td>\n",
       "      <td>mpfi</td>\n",
       "      <td>2.68</td>\n",
       "      <td>3.47</td>\n",
       "      <td>9.0</td>\n",
       "      <td>154</td>\n",
       "      <td>5000</td>\n",
       "      <td>19</td>\n",
       "      <td>26</td>\n",
       "      <td>16500</td>\n",
       "    </tr>\n",
       "    <tr>\n",
       "      <th>2</th>\n",
       "      <td>2</td>\n",
       "      <td>164</td>\n",
       "      <td>audi</td>\n",
       "      <td>gas</td>\n",
       "      <td>std</td>\n",
       "      <td>four</td>\n",
       "      <td>sedan</td>\n",
       "      <td>fwd</td>\n",
       "      <td>front</td>\n",
       "      <td>99.8</td>\n",
       "      <td>176.6</td>\n",
       "      <td>66.2</td>\n",
       "      <td>54.3</td>\n",
       "      <td>2337</td>\n",
       "      <td>ohc</td>\n",
       "      <td>four</td>\n",
       "      <td>109</td>\n",
       "      <td>mpfi</td>\n",
       "      <td>3.19</td>\n",
       "      <td>3.40</td>\n",
       "      <td>10.0</td>\n",
       "      <td>102</td>\n",
       "      <td>5500</td>\n",
       "      <td>24</td>\n",
       "      <td>30</td>\n",
       "      <td>13950</td>\n",
       "    </tr>\n",
       "  </tbody>\n",
       "</table>\n",
       "</div>"
      ],
      "text/plain": [
       "   3    ?  alfa-romero  gas  std   two  convertible  rwd  front  88.60  \\\n",
       "0  3    ?  alfa-romero  gas  std   two  convertible  rwd  front   88.6   \n",
       "1  1    ?  alfa-romero  gas  std   two    hatchback  rwd  front   94.5   \n",
       "2  2  164         audi  gas  std  four        sedan  fwd  front   99.8   \n",
       "\n",
       "   168.80  64.10  48.80  2548  dohc  four  130  mpfi  3.47  2.68  9.00  111  \\\n",
       "0   168.8   64.1   48.8  2548  dohc  four  130  mpfi  3.47  2.68   9.0  111   \n",
       "1   171.2   65.5   52.4  2823  ohcv   six  152  mpfi  2.68  3.47   9.0  154   \n",
       "2   176.6   66.2   54.3  2337   ohc  four  109  mpfi  3.19  3.40  10.0  102   \n",
       "\n",
       "   5000  21  27  13495  \n",
       "0  5000  21  27  16500  \n",
       "1  5000  19  26  16500  \n",
       "2  5500  24  30  13950  "
      ]
     },
     "execution_count": 1,
     "metadata": {},
     "output_type": "execute_result"
    }
   ],
   "source": [
    "import matplotlib.pyplot as plt\n",
    "import pandas as pd\n",
    "import numpy as np\n",
    "\n",
    "%matplotlib inline\n",
    "\n",
    "pd.set_option('display.max_columns', 500)\n",
    "\n",
    "cars = pd.read_csv('imports-85.data')\n",
    "cars.head(3)"
   ]
  },
  {
   "cell_type": "markdown",
   "metadata": {},
   "source": [
    "It looks like the column names are a copy from the first row, let's clean them up to match the documentation."
   ]
  },
  {
   "cell_type": "code",
   "execution_count": 2,
   "metadata": {},
   "outputs": [
    {
     "data": {
      "text/html": [
       "<div>\n",
       "<style scoped>\n",
       "    .dataframe tbody tr th:only-of-type {\n",
       "        vertical-align: middle;\n",
       "    }\n",
       "\n",
       "    .dataframe tbody tr th {\n",
       "        vertical-align: top;\n",
       "    }\n",
       "\n",
       "    .dataframe thead th {\n",
       "        text-align: right;\n",
       "    }\n",
       "</style>\n",
       "<table border=\"1\" class=\"dataframe\">\n",
       "  <thead>\n",
       "    <tr style=\"text-align: right;\">\n",
       "      <th></th>\n",
       "      <th>symboling</th>\n",
       "      <th>normalized-losses</th>\n",
       "      <th>make</th>\n",
       "      <th>fuel-type</th>\n",
       "      <th>aspiration</th>\n",
       "      <th>num-of-doors</th>\n",
       "      <th>body-style</th>\n",
       "      <th>drive-wheels</th>\n",
       "      <th>engine-location</th>\n",
       "      <th>wheel-base</th>\n",
       "      <th>length</th>\n",
       "      <th>width</th>\n",
       "      <th>height</th>\n",
       "      <th>curb-weight</th>\n",
       "      <th>engine-type</th>\n",
       "      <th>num-of-cylinders</th>\n",
       "      <th>engine-size</th>\n",
       "      <th>fuel-system</th>\n",
       "      <th>bore</th>\n",
       "      <th>stroke</th>\n",
       "      <th>compression-rate</th>\n",
       "      <th>horsepower</th>\n",
       "      <th>peak-rpm</th>\n",
       "      <th>city-mpg</th>\n",
       "      <th>highway-mpg</th>\n",
       "      <th>price</th>\n",
       "    </tr>\n",
       "  </thead>\n",
       "  <tbody>\n",
       "    <tr>\n",
       "      <th>0</th>\n",
       "      <td>3</td>\n",
       "      <td>?</td>\n",
       "      <td>alfa-romero</td>\n",
       "      <td>gas</td>\n",
       "      <td>std</td>\n",
       "      <td>two</td>\n",
       "      <td>convertible</td>\n",
       "      <td>rwd</td>\n",
       "      <td>front</td>\n",
       "      <td>88.6</td>\n",
       "      <td>168.8</td>\n",
       "      <td>64.1</td>\n",
       "      <td>48.8</td>\n",
       "      <td>2548</td>\n",
       "      <td>dohc</td>\n",
       "      <td>four</td>\n",
       "      <td>130</td>\n",
       "      <td>mpfi</td>\n",
       "      <td>3.47</td>\n",
       "      <td>2.68</td>\n",
       "      <td>9.0</td>\n",
       "      <td>111</td>\n",
       "      <td>5000</td>\n",
       "      <td>21</td>\n",
       "      <td>27</td>\n",
       "      <td>16500</td>\n",
       "    </tr>\n",
       "    <tr>\n",
       "      <th>1</th>\n",
       "      <td>1</td>\n",
       "      <td>?</td>\n",
       "      <td>alfa-romero</td>\n",
       "      <td>gas</td>\n",
       "      <td>std</td>\n",
       "      <td>two</td>\n",
       "      <td>hatchback</td>\n",
       "      <td>rwd</td>\n",
       "      <td>front</td>\n",
       "      <td>94.5</td>\n",
       "      <td>171.2</td>\n",
       "      <td>65.5</td>\n",
       "      <td>52.4</td>\n",
       "      <td>2823</td>\n",
       "      <td>ohcv</td>\n",
       "      <td>six</td>\n",
       "      <td>152</td>\n",
       "      <td>mpfi</td>\n",
       "      <td>2.68</td>\n",
       "      <td>3.47</td>\n",
       "      <td>9.0</td>\n",
       "      <td>154</td>\n",
       "      <td>5000</td>\n",
       "      <td>19</td>\n",
       "      <td>26</td>\n",
       "      <td>16500</td>\n",
       "    </tr>\n",
       "    <tr>\n",
       "      <th>2</th>\n",
       "      <td>2</td>\n",
       "      <td>164</td>\n",
       "      <td>audi</td>\n",
       "      <td>gas</td>\n",
       "      <td>std</td>\n",
       "      <td>four</td>\n",
       "      <td>sedan</td>\n",
       "      <td>fwd</td>\n",
       "      <td>front</td>\n",
       "      <td>99.8</td>\n",
       "      <td>176.6</td>\n",
       "      <td>66.2</td>\n",
       "      <td>54.3</td>\n",
       "      <td>2337</td>\n",
       "      <td>ohc</td>\n",
       "      <td>four</td>\n",
       "      <td>109</td>\n",
       "      <td>mpfi</td>\n",
       "      <td>3.19</td>\n",
       "      <td>3.40</td>\n",
       "      <td>10.0</td>\n",
       "      <td>102</td>\n",
       "      <td>5500</td>\n",
       "      <td>24</td>\n",
       "      <td>30</td>\n",
       "      <td>13950</td>\n",
       "    </tr>\n",
       "  </tbody>\n",
       "</table>\n",
       "</div>"
      ],
      "text/plain": [
       "   symboling normalized-losses         make fuel-type aspiration num-of-doors  \\\n",
       "0          3                 ?  alfa-romero       gas        std          two   \n",
       "1          1                 ?  alfa-romero       gas        std          two   \n",
       "2          2               164         audi       gas        std         four   \n",
       "\n",
       "    body-style drive-wheels engine-location  wheel-base  length  width  \\\n",
       "0  convertible          rwd           front        88.6   168.8   64.1   \n",
       "1    hatchback          rwd           front        94.5   171.2   65.5   \n",
       "2        sedan          fwd           front        99.8   176.6   66.2   \n",
       "\n",
       "   height  curb-weight engine-type num-of-cylinders  engine-size fuel-system  \\\n",
       "0    48.8         2548        dohc             four          130        mpfi   \n",
       "1    52.4         2823        ohcv              six          152        mpfi   \n",
       "2    54.3         2337         ohc             four          109        mpfi   \n",
       "\n",
       "   bore stroke  compression-rate horsepower peak-rpm  city-mpg  highway-mpg  \\\n",
       "0  3.47   2.68               9.0        111     5000        21           27   \n",
       "1  2.68   3.47               9.0        154     5000        19           26   \n",
       "2  3.19   3.40              10.0        102     5500        24           30   \n",
       "\n",
       "   price  \n",
       "0  16500  \n",
       "1  16500  \n",
       "2  13950  "
      ]
     },
     "execution_count": 2,
     "metadata": {},
     "output_type": "execute_result"
    }
   ],
   "source": [
    "col_names = ['symboling', \n",
    "             'normalized-losses', \n",
    "             'make', \n",
    "             'fuel-type', \n",
    "             'aspiration', \n",
    "             'num-of-doors', \n",
    "             'body-style', \n",
    "             'drive-wheels', \n",
    "             'engine-location', \n",
    "             'wheel-base', \n",
    "             'length', \n",
    "             'width', \n",
    "             'height', \n",
    "             'curb-weight', \n",
    "             'engine-type', \n",
    "             'num-of-cylinders', \n",
    "             'engine-size', \n",
    "             'fuel-system', \n",
    "             'bore', \n",
    "             'stroke', \n",
    "             'compression-rate', \n",
    "             'horsepower', \n",
    "             'peak-rpm', \n",
    "             'city-mpg', \n",
    "             'highway-mpg', \n",
    "             'price']\n",
    "cars.columns = col_names\n",
    "cars.head(3)"
   ]
  },
  {
   "cell_type": "markdown",
   "metadata": {},
   "source": [
    "## Data Cleaning\n",
    "Looking at a few rows of the dataset, we can see that several columns contain `?` to represent missing data. Let's replace these values with `NaN`."
   ]
  },
  {
   "cell_type": "code",
   "execution_count": 3,
   "metadata": {},
   "outputs": [
    {
     "data": {
      "text/plain": [
       "0    NaN\n",
       "1    NaN\n",
       "2    164\n",
       "Name: normalized-losses, dtype: object"
      ]
     },
     "execution_count": 3,
     "metadata": {},
     "output_type": "execute_result"
    }
   ],
   "source": [
    "cars = cars.replace('?', np.nan)\n",
    "cars['normalized-losses'].head(3)"
   ]
  },
  {
   "cell_type": "markdown",
   "metadata": {},
   "source": [
    "Now let's rescale the values in the numeric columns from 0 to 1 to prevent the predictive model from assigning undue weight to columns with higher magnitude values."
   ]
  },
  {
   "cell_type": "code",
   "execution_count": 4,
   "metadata": {},
   "outputs": [
    {
     "name": "stdout",
     "output_type": "stream",
     "text": [
      "<class 'pandas.core.frame.DataFrame'>\n",
      "RangeIndex: 204 entries, 0 to 203\n",
      "Data columns (total 26 columns):\n",
      "symboling            204 non-null int64\n",
      "normalized-losses    164 non-null object\n",
      "make                 204 non-null object\n",
      "fuel-type            204 non-null object\n",
      "aspiration           204 non-null object\n",
      "num-of-doors         202 non-null object\n",
      "body-style           204 non-null object\n",
      "drive-wheels         204 non-null object\n",
      "engine-location      204 non-null object\n",
      "wheel-base           204 non-null float64\n",
      "length               204 non-null float64\n",
      "width                204 non-null float64\n",
      "height               204 non-null float64\n",
      "curb-weight          204 non-null int64\n",
      "engine-type          204 non-null object\n",
      "num-of-cylinders     204 non-null object\n",
      "engine-size          204 non-null int64\n",
      "fuel-system          204 non-null object\n",
      "bore                 200 non-null object\n",
      "stroke               200 non-null object\n",
      "compression-rate     204 non-null float64\n",
      "horsepower           202 non-null object\n",
      "peak-rpm             202 non-null object\n",
      "city-mpg             204 non-null int64\n",
      "highway-mpg          204 non-null int64\n",
      "price                200 non-null object\n",
      "dtypes: float64(5), int64(5), object(16)\n",
      "memory usage: 41.5+ KB\n"
     ]
    }
   ],
   "source": [
    "cars.info()"
   ]
  },
  {
   "cell_type": "markdown",
   "metadata": {},
   "source": [
    "The columns `normalized-losses`, `bore`, `stroke`, `horsepower`, `peak-rpm`, and `price` are all of type object but contain numeric data, so let's convert these columns to the appropriate datatype first. \n",
    "\n",
    "First, `num-of-cylinders` is written in longhand numbers ('four', 'six', etc.), we can convert these to digits and then to the integer datatype along with the other columns."
   ]
  },
  {
   "cell_type": "code",
   "execution_count": 5,
   "metadata": {},
   "outputs": [
    {
     "data": {
      "text/plain": [
       "four      158\n",
       "six        24\n",
       "five       11\n",
       "eight       5\n",
       "two         4\n",
       "twelve      1\n",
       "three       1\n",
       "Name: num-of-cylinders, dtype: int64"
      ]
     },
     "execution_count": 5,
     "metadata": {},
     "output_type": "execute_result"
    }
   ],
   "source": [
    "cars['num-of-cylinders'].value_counts()"
   ]
  },
  {
   "cell_type": "code",
   "execution_count": 6,
   "metadata": {},
   "outputs": [
    {
     "data": {
      "text/plain": [
       "4     158\n",
       "6      24\n",
       "5      11\n",
       "8       5\n",
       "2       4\n",
       "12      1\n",
       "3       1\n",
       "Name: num-of-cylinders, dtype: int64"
      ]
     },
     "execution_count": 6,
     "metadata": {},
     "output_type": "execute_result"
    }
   ],
   "source": [
    "str_num_dict = {'four': 4, 'six': 6, 'five': 5, 'eight': 8, 'two': 2, 'three': 3, 'twelve': 12}\n",
    "cars['num-of-cylinders'] = cars['num-of-cylinders'].replace(str_num_dict)\n",
    "cars['num-of-cylinders'].value_counts()"
   ]
  },
  {
   "cell_type": "code",
   "execution_count": 7,
   "metadata": {},
   "outputs": [
    {
     "name": "stdout",
     "output_type": "stream",
     "text": [
      "<class 'pandas.core.frame.DataFrame'>\n",
      "RangeIndex: 204 entries, 0 to 203\n",
      "Data columns (total 7 columns):\n",
      "normalized-losses    164 non-null float64\n",
      "horsepower           202 non-null float64\n",
      "peak-rpm             202 non-null float64\n",
      "num-of-cylinders     204 non-null int64\n",
      "price                200 non-null float64\n",
      "bore                 200 non-null float64\n",
      "stroke               200 non-null float64\n",
      "dtypes: float64(6), int64(1)\n",
      "memory usage: 11.2 KB\n"
     ]
    }
   ],
   "source": [
    "to_num_cols = ['normalized-losses', 'horsepower', 'peak-rpm', 'num-of-cylinders', 'price', 'bore', 'stroke']\n",
    "\n",
    "cars[to_num_cols] = cars[to_num_cols].apply(pd.to_numeric)\n",
    "cars[to_num_cols].info()"
   ]
  },
  {
   "cell_type": "markdown",
   "metadata": {},
   "source": [
    "Before normalizing these columns, let's handle the null values.\n",
    "\n",
    "Because the `price` column is the column we want to predict, let's remove rows with missing `price` values."
   ]
  },
  {
   "cell_type": "code",
   "execution_count": 8,
   "metadata": {},
   "outputs": [
    {
     "data": {
      "text/plain": [
       "symboling             0\n",
       "normalized-losses    36\n",
       "wheel-base            0\n",
       "length                0\n",
       "width                 0\n",
       "height                0\n",
       "curb-weight           0\n",
       "num-of-cylinders      0\n",
       "engine-size           0\n",
       "bore                  4\n",
       "stroke                4\n",
       "compression-rate      0\n",
       "horsepower            2\n",
       "peak-rpm              2\n",
       "city-mpg              0\n",
       "highway-mpg           0\n",
       "price                 0\n",
       "dtype: int64"
      ]
     },
     "execution_count": 8,
     "metadata": {},
     "output_type": "execute_result"
    }
   ],
   "source": [
    "num_cols = cars.select_dtypes(include=['int', 'float']).columns\n",
    "\n",
    "# Drop rows with null price values\n",
    "cars = cars.dropna(subset=['price'])\n",
    "\n",
    "cars[num_cols].isnull().sum()"
   ]
  },
  {
   "cell_type": "markdown",
   "metadata": {},
   "source": [
    "For the other numeric columns, let's simply replace the `NaN` values with the mean of the respective column."
   ]
  },
  {
   "cell_type": "code",
   "execution_count": 9,
   "metadata": {},
   "outputs": [
    {
     "data": {
      "text/plain": [
       "symboling            0\n",
       "normalized-losses    0\n",
       "wheel-base           0\n",
       "length               0\n",
       "width                0\n",
       "height               0\n",
       "curb-weight          0\n",
       "num-of-cylinders     0\n",
       "engine-size          0\n",
       "bore                 0\n",
       "stroke               0\n",
       "compression-rate     0\n",
       "horsepower           0\n",
       "peak-rpm             0\n",
       "city-mpg             0\n",
       "highway-mpg          0\n",
       "price                0\n",
       "dtype: int64"
      ]
     },
     "execution_count": 9,
     "metadata": {},
     "output_type": "execute_result"
    }
   ],
   "source": [
    "cars[num_cols] = cars[num_cols].fillna(cars.mean(axis=0))\n",
    "\n",
    "cars[num_cols].isnull().sum()"
   ]
  },
  {
   "cell_type": "code",
   "execution_count": 10,
   "metadata": {},
   "outputs": [],
   "source": [
    "# Normalize values to between 0 and 1 except the target column\n",
    "price = cars['price']\n",
    "cars[num_cols] = (cars[num_cols] - cars[num_cols].min()) / \\\n",
    "                    (cars[num_cols].max() - cars[num_cols].min())\n",
    "cars['price'] = price"
   ]
  },
  {
   "cell_type": "markdown",
   "metadata": {},
   "source": [
    "## Simple Model\n",
    "Let's start with some univariate k-nearest neighbors models. Starting with simple models before moving to more complex models helps us structure your code workflow and understand the features better."
   ]
  },
  {
   "cell_type": "code",
   "execution_count": 11,
   "metadata": {},
   "outputs": [
    {
     "data": {
      "text/plain": [
       "{'symboling': {1: 0.22265906118921178,\n",
       "  3: 0.2135054821492792,\n",
       "  5: 0.20438605304290466,\n",
       "  7: 0.2064636954670917,\n",
       "  9: 0.20661679963886181},\n",
       " 'normalized-losses': {1: 0.22352842749373245,\n",
       "  3: 0.1996011132698086,\n",
       "  5: 0.20133447010067368,\n",
       "  7: 0.20470035148852075,\n",
       "  9: 0.20950990599055688},\n",
       " 'wheel-base': {1: 0.1879393740865287,\n",
       "  3: 0.18190728972386452,\n",
       "  5: 0.16976826293298583,\n",
       "  7: 0.17300669488021347,\n",
       "  9: 0.17922308699363185},\n",
       " 'length': {1: 0.18944973268808812,\n",
       "  3: 0.16139110368883217,\n",
       "  5: 0.1541092811417694,\n",
       "  7: 0.16801870165318586,\n",
       "  9: 0.15954525388117585},\n",
       " 'width': {1: 0.14194269334728676,\n",
       "  3: 0.1318546403245603,\n",
       "  5: 0.14187602167136276,\n",
       "  7: 0.14809192553364736,\n",
       "  9: 0.15289671370177543},\n",
       " 'height': {1: 0.20733971203945106,\n",
       "  3: 0.20477246305028146,\n",
       "  5: 0.1959108739513117,\n",
       "  7: 0.19941727260191888,\n",
       "  9: 0.20355595784314073},\n",
       " 'curb-weight': {1: 0.10555319216859316,\n",
       "  3: 0.12172064079557295,\n",
       "  5: 0.12376777356527967,\n",
       "  7: 0.12988179550521178,\n",
       "  9: 0.13795765560988005},\n",
       " 'num-of-cylinders': {1: 0.16487433078972102,\n",
       "  3: 0.17174802939303233,\n",
       "  5: 0.16120535465677008,\n",
       "  7: 0.16054349032974669,\n",
       "  9: 0.15856927729339404},\n",
       " 'engine-size': {1: 0.10458111628024047,\n",
       "  3: 0.12001359908312585,\n",
       "  5: 0.13185324834203996,\n",
       "  7: 0.1356683320530407,\n",
       "  9: 0.14130728002367485},\n",
       " 'bore': {1: 0.2287973603623759,\n",
       "  3: 0.20036737769585888,\n",
       "  5: 0.19410881287773685,\n",
       "  7: 0.2038373752424386,\n",
       "  9: 0.2033737992385997},\n",
       " 'stroke': {1: 0.23940086282917725,\n",
       "  3: 0.20786950996589162,\n",
       "  5: 0.20974306950582164,\n",
       "  7: 0.20670229182508207,\n",
       "  9: 0.20706088282530577},\n",
       " 'compression-rate': {1: 0.20415676656403942,\n",
       "  3: 0.18285850526609007,\n",
       "  5: 0.18886423028454324,\n",
       "  7: 0.18692597874090938,\n",
       "  9: 0.19813089495683758},\n",
       " 'horsepower': {1: 0.1510408875018543,\n",
       "  3: 0.1569279076704191,\n",
       "  5: 0.1436093621165662,\n",
       "  7: 0.1519806066316172,\n",
       "  9: 0.14812264003336945},\n",
       " 'peak-rpm': {1: 0.22256509879898237,\n",
       "  3: 0.19885812326600708,\n",
       "  5: 0.19677900331764892,\n",
       "  7: 0.1970182463901661,\n",
       "  9: 0.20492783237363568},\n",
       " 'city-mpg': {1: 0.12671205778449082,\n",
       "  3: 0.13387744664723952,\n",
       "  5: 0.13781418108347415,\n",
       "  7: 0.13986245539556155,\n",
       "  9: 0.1463371721504853},\n",
       " 'highway-mpg': {1: 0.12137442101262269,\n",
       "  3: 0.12490941923511432,\n",
       "  5: 0.1429128265632023,\n",
       "  7: 0.14934535681984096,\n",
       "  9: 0.15069466973033172}}"
      ]
     },
     "execution_count": 11,
     "metadata": {},
     "output_type": "execute_result"
    }
   ],
   "source": [
    "from sklearn.model_selection import train_test_split\n",
    "from sklearn.metrics import mean_squared_error\n",
    "from sklearn.neighbors import KNeighborsRegressor\n",
    "\n",
    "def knn_train_test(train_col, target_col, df, k):\n",
    "    # Split data into train and test sets\n",
    "    train, test = train_test_split(df, test_size=.8, random_state=1)\n",
    "    \n",
    "    # Train model\n",
    "    knn = KNeighborsRegressor(n_neighbors=k)\n",
    "    knn.fit(train[[train_col]], train[target_col])\n",
    "    \n",
    "    # Calculate RMSE on test set\n",
    "    predictions = knn.predict(test[[train_col]])\n",
    "    rmse = np.sqrt(mean_squared_error(predictions, test[target_col]))\n",
    "    \n",
    "    return rmse\n",
    "    \n",
    "# Run model on each feature with different k values\n",
    "k_rmse_results = {}\n",
    "features = cars[num_cols].drop('price', axis=1).columns\n",
    "for col in features:\n",
    "    k_rmses = {}\n",
    "    for k in np.arange(1, 10, 2):\n",
    "        k_rmses[k] = knn_train_test(col, 'price', cars, k)\n",
    "\n",
    "    k_rmse_results[col] = k_rmses\n",
    "\n",
    "k_rmse_results"
   ]
  },
  {
   "cell_type": "code",
   "execution_count": 17,
   "metadata": {},
   "outputs": [
    {
     "data": {
      "image/png": "[encoded data removed]",
      "text/plain": [
       "<Figure size 432x288 with 1 Axes>"
      ]
     },
     "metadata": {
      "needs_background": "light"
     },
     "output_type": "display_data"
    }
   ],
   "source": [
    "for k, v in k_rmse_results.items():\n",
    "    plt.plot(v.keys(), v.values())\n",
    "    plt.xlabel('K value')\n",
    "    plt.ylabel('RMSE')\n",
    "plt.title('RMSE Error of KNN Model Using Different K Values on Each Column')\n",
    "plt.show()"
   ]
  },
  {
   "cell_type": "code",
   "execution_count": null,
   "metadata": {},
   "outputs": [],
   "source": []
  }
 ],
 "metadata": {
  "kernelspec": {
   "display_name": "Python 3",
   "language": "python",
   "name": "python3"
  },
  "language_info": {
   "codemirror_mode": {
    "name": "ipython",
    "version": 3
   },
   "file_extension": ".py",
   "mimetype": "text/x-python",
   "name": "python",
   "nbconvert_exporter": "python",
   "pygments_lexer": "ipython3",
   "version": "3.6.8"
  }
 },
 "nbformat": 4,
 "nbformat_minor": 2
}
