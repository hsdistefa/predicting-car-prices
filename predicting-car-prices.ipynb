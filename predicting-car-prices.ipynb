{
 "cells": [
  {
   "cell_type": "markdown",
   "metadata": {},
   "source": [
    "# Predicting Car Prices Using Machine Learning\n",
    "In this notebook we will be predicting a car's market price using its attributes using a simple machine learning workflow. For each car we have information about the technical aspects of the vehicle such as the motor's displacement, the weight of the car, the miles per gallon, how fast the car accelerates, and more. We will use these attributes to create a model that can give a good idea of a cars market value given only the attributes of a car it hasn't seen before.\n",
    "\n",
    "## Data\n",
    "The data we will be using the train the model can be found on the University of California Irvine's machine learning reposity [here](https://archive.ics.uci.edu/ml/datasets/automobile)\n",
    "\n",
    "The data have the following columns:\n",
    "1. **symboling**: -3, -2, -1, 0, 1, 2, 3. \n",
    "2. **normalized-losses**: continuous from 65 to 256. \n",
    "3. **make**: alfa-romero, audi, bmw, chevrolet, dodge, honda, isuzu, jaguar, mazda, mercedes-benz, mercury, mitsubishi, nissan, peugot, plymouth, porsche, renault, saab, subaru, toyota, volkswagen, volvo \n",
    "4. **fuel-type**: diesel, gas. \n",
    "5. **aspiration**: std, turbo. \n",
    "6. **num-of-doors**: four, two. \n",
    "7. **body-style**: hardtop, wagon, sedan, hatchback, convertible. \n",
    "8. **drive-wheels**: 4wd, fwd, rwd. \n",
    "9. **engine-location**: front, rear. \n",
    "10. **wheel-base**: continuous from 86.6 120.9. \n",
    "11. **length**: continuous from 141.1 to 208.1. \n",
    "12. **width**: continuous from 60.3 to 72.3. \n",
    "13. **height**: continuous from 47.8 to 59.8. \n",
    "14. **curb-weight**: continuous from 1488 to 4066. \n",
    "15. **engine-type**: dohc, dohcv, l, ohc, ohcf, ohcv, rotor. \n",
    "16. **num-of-cylinders**: eight, five, four, six, three, twelve, two. \n",
    "17. **engine-size**: continuous from 61 to 326. \n",
    "18. **fuel-system**: 1bbl, 2bbl, 4bbl, idi, mfi, mpfi, spdi, spfi. \n",
    "19. **bore**: continuous from 2.54 to 3.94. \n",
    "20. **stroke**: continuous from 2.07 to 4.17. \n",
    "21. **compression-ratio**: continuous from 7 to 23. \n",
    "22. **horsepower**: continuous from 48 to 288. \n",
    "23. **peak-rpm**: continuous from 4150 to 6600. \n",
    "24. **city-mpg**: continuous from 13 to 49. \n",
    "25. **highway-mpg**: continuous from 16 to 54. \n",
    "26. **price**: continuous from 5118 to 45400."
   ]
  },
  {
   "cell_type": "code",
   "execution_count": null,
   "metadata": {},
   "outputs": [],
   "source": []
  }
 ],
 "metadata": {
  "kernelspec": {
   "display_name": "Python 3",
   "language": "python",
   "name": "python3"
  },
  "language_info": {
   "codemirror_mode": {
    "name": "ipython",
    "version": 3
   },
   "file_extension": ".py",
   "mimetype": "text/x-python",
   "name": "python",
   "nbconvert_exporter": "python",
   "pygments_lexer": "ipython3",
   "version": "3.6.8"
  }
 },
 "nbformat": 4,
 "nbformat_minor": 2
}
